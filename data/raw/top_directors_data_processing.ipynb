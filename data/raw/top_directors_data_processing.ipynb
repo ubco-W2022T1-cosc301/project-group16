{
 "cells": [
  {
   "cell_type": "markdown",
   "metadata": {},
   "source": [
    "# Top Directors Data Processing\n",
    "\n",
    "This notebook contains steps to aggregate [top_directors_data.csv](https://github.com/the-pudding/data/tree/master/film-or-digital/top_directors_data.csv) to the ones visualized in The Pudding essay [Film or Digital: Breaking Down Hollywood's Choice of Shooting Medium](https://pudding.cool/2018/08/film-or-digital/)."
   ]
  },
  {
   "cell_type": "code",
   "execution_count": null,
   "metadata": {
    "collapsed": true
   },
   "outputs": [],
   "source": [
    "#import libraries\n",
    "import pandas as pd\n",
    "import numpy as np\n",
    "import matplotlib.pyplot as plt\n",
    "import json\n",
    "from IPython.core.display import display"
   ]
  },
  {
   "cell_type": "code",
   "execution_count": null,
   "metadata": {
    "collapsed": true
   },
   "outputs": [],
   "source": [
    "#load data\n",
    "dataset = pd.read_csv(\"top_directors_data.csv\")"
   ]
  },
  {
   "cell_type": "code",
   "execution_count": null,
   "metadata": {
    "collapsed": true
   },
   "outputs": [],
   "source": [
    "#exclude Short film, Animation, Documentary, and movie with unknown genre\n",
    "dataset = dataset[~dataset['genres'].isnull()]\n",
    "dataset = dataset[~dataset['genres'].str.contains(\"Short|Animation|Documentary\")]"
   ]
  },
  {
   "cell_type": "code",
   "execution_count": null,
   "metadata": {
    "collapsed": true
   },
   "outputs": [],
   "source": [
    "#rename film type \"D|F\" to \"B\"\n",
    "film_type = {'D': 'D', 'D|F': 'B', 'F': 'F', 'U':'U'}\n",
    "dataset[\"film_type\"]=dataset[\"film_type\"].map(film_type)"
   ]
  },
  {
   "cell_type": "code",
   "execution_count": null,
   "metadata": {
    "collapsed": true
   },
   "outputs": [],
   "source": [
    "#expand film type to new columns\n",
    "dummies=pd.get_dummies(dataset,columns=[\"film_type\"])\n",
    "dataset=pd.concat([dataset,dummies[[\"film_type_D\",\"film_type_B\",\"film_type_F\",\"film_type_U\"]]],axis=1)"
   ]
  },
  {
   "cell_type": "code",
   "execution_count": null,
   "metadata": {},
   "outputs": [],
   "source": [
    "#check samples\n",
    "dataset.head()"
   ]
  },
  {
   "cell_type": "markdown",
   "metadata": {},
   "source": [
    "------\n",
    "## Prepare some functions to map values/formatting later"
   ]
  },
  {
   "cell_type": "code",
   "execution_count": null,
   "metadata": {
    "collapsed": true
   },
   "outputs": [],
   "source": [
    "#Function to map production year to a three-years period.\n",
    "def calculate_period(series):\n",
    "    #Categorize production year to period.\n",
    "    #period 1: 2006-2008, period 2: 2009-2012, etc\n",
    "\n",
    "    condition=[\n",
    "                series.between(2006,2008),\n",
    "                series.between(2009,2011),\n",
    "                series.between(2012,2014),\n",
    "                series.between(2015,2017),\n",
    "              ]\n",
    "\n",
    "    category=[\n",
    "                \"2006 - 2008\", \"2009 - 2011\", \"2012 - 2014\", \"2015 - 2017\"\n",
    "             ]\n",
    "    return np.select(condition,category)"
   ]
  },
  {
   "cell_type": "code",
   "execution_count": null,
   "metadata": {
    "collapsed": true
   },
   "outputs": [],
   "source": [
    "# function to format director's name. Last name, First name -> First name Last name\n",
    "def format_name(name):\n",
    "    names = name.split(\",\")\n",
    "    if len(names)>1:\n",
    "        return names[1].lstrip()+\" \"+names[0]\n",
    "    else:\n",
    "        return names[0].lstrip()"
   ]
  },
  {
   "cell_type": "code",
   "execution_count": null,
   "metadata": {
    "collapsed": true
   },
   "outputs": [],
   "source": [
    "# function to categorize directors' choice of medium based on all movies they produced within a period\n",
    "def define_verdict(series):\n",
    "    #print(series)\n",
    "    total_film_with_known_medium = series[[\"film_type_D\",\"film_type_B\",\"film_type_F\"]].sum()\n",
    "    if total_film_with_known_medium==0:\n",
    "        verdict = \"U\"\n",
    "    else:\n",
    "        score = (series[\"film_type_D\"]+(0.5*series[\"film_type_B\"]))/total_film_with_known_medium\n",
    "        if score == 0:\n",
    "            verdict = \"F\"\n",
    "        elif score == 1:\n",
    "            verdict = \"D\"\n",
    "        else:\n",
    "            verdict = \"B\"\n",
    "    return verdict"
   ]
  },
  {
   "cell_type": "markdown",
   "metadata": {},
   "source": [
    "------\n",
    "## Check Director's Choice of Medium per Period"
   ]
  },
  {
   "cell_type": "code",
   "execution_count": null,
   "metadata": {
    "collapsed": true
   },
   "outputs": [],
   "source": [
    "#select relevant columns for this analysis\n",
    "movie_list=dataset[[\"production_year\",\"director\",\"director_id\",\"title\",\"film_type\",\"film_type_D\",\"film_type_B\",\"film_type_F\",\"film_type_U\"]]"
   ]
  },
  {
   "cell_type": "code",
   "execution_count": null,
   "metadata": {},
   "outputs": [],
   "source": [
    "#categorize production year to period.\n",
    "movie_list[\"period\"]=movie_list[[\"production_year\"]].apply(calculate_period)"
   ]
  },
  {
   "cell_type": "code",
   "execution_count": null,
   "metadata": {},
   "outputs": [],
   "source": [
    "#concate production title, year, and film type to a field.\n",
    "#This is used in the essay for the tooltip.\n",
    "def concate_list(movie_data):\n",
    "    return '{\"year\": %s, \"title\": \"%s\", \"film_type\": \"%s\"}'%(movie_data[\"production_year\"],movie_data[\"title\"],movie_data[\"film_type\"])\n",
    "\n",
    "movie_list[\"movie_list\"]=movie_list[[\"production_year\",\"title\",\"film_type\"]].apply(lambda row:concate_list(row),axis=1)\n",
    "\n",
    "movie_list[\"director\"] = movie_list[\"director\"].apply(format_name)"
   ]
  },
  {
   "cell_type": "code",
   "execution_count": null,
   "metadata": {
    "collapsed": true
   },
   "outputs": [],
   "source": [
    "#group directors by period, count total movies made each period and the medium.\n",
    "directors_medium=movie_list.groupby([\"period\",\"director\",\"director_id\"]).agg({\"title\":\"count\",\n",
    "                                                                \"movie_list\": \", \".join,\n",
    "                                                                \"film_type_D\":\"sum\",\n",
    "                                                                \"film_type_B\":\"sum\",\n",
    "                                                                \"film_type_F\":\"sum\",\n",
    "                                                                \"film_type_U\":\"sum\",\n",
    "                                                               }).reset_index()"
   ]
  },
  {
   "cell_type": "code",
   "execution_count": null,
   "metadata": {
    "collapsed": true
   },
   "outputs": [],
   "source": [
    "#summarize directors' choice of medium within a time period.\n",
    "directors_medium.rename(columns={'title': 'count_title'}, inplace=True)\n",
    "\n",
    "directors_medium[\"verdict\"]=directors_medium[[\"film_type_D\",\"film_type_B\",\"film_type_F\",\"film_type_U\"]]\\\n",
    "                            .apply(lambda x:define_verdict(x), axis=1)"
   ]
  },
  {
   "cell_type": "code",
   "execution_count": null,
   "metadata": {
    "collapsed": true
   },
   "outputs": [],
   "source": [
    "#set index\n",
    "directors_nodes = directors_medium.sort_values(by=[\"period\",\"verdict\",\"director\"])\\\n",
    ".set_index([\"period\",\"verdict\",\"director\"])[[\"director_id\",\"count_title\",\"movie_list\"]]"
   ]
  },
  {
   "cell_type": "code",
   "execution_count": null,
   "metadata": {},
   "outputs": [],
   "source": [
    "#display result \n",
    "with pd.option_context('display.max_rows', None, 'display.max_columns', None, 'display.max_colwidth', -1):\n",
    "    display(directors_nodes)"
   ]
  },
  {
   "cell_type": "markdown",
   "metadata": {},
   "source": [
    "------\n",
    "## Check How Director's Choice of Medium Change Overtime"
   ]
  },
  {
   "cell_type": "code",
   "execution_count": null,
   "metadata": {},
   "outputs": [],
   "source": [
    "#Pivot the data to see the 'path' followed by a director over time\n",
    "director_path = directors_medium.pivot_table(index=['director',\"director_id\"],\n",
    "                                     columns='period', \n",
    "                                     values='verdict',\n",
    "                                     aggfunc=lambda x: ' '.join(x))\n",
    "#if a director didn't make any movie in a period, set the value of the period as 'U'\n",
    "director_path.fillna(\"U\",inplace=True)\n",
    "\n",
    "#check some samples\n",
    "director_path.reset_index(level='director_id',inplace=True)\n",
    "director_path.head(5)"
   ]
  },
  {
   "cell_type": "code",
   "execution_count": null,
   "metadata": {
    "collapsed": true
   },
   "outputs": [],
   "source": [
    "#Function to fill the gap between period, by filling the period with unknown medium with medium used in previous period. \n",
    "#For example if the path is \"F\",\"U\",\"D\",\"D\", then the medium in the second period is assumed to be the same with the first period.\n",
    "#The final path will be \"F\",\"F\",\"D\",\"D\". \n",
    "#In this case, the director is assumed to switch to digital in the third period (2012-2014)\n",
    "def fill_path(series):\n",
    "    total_movie_unknown = series.str.contains('U').sum()\n",
    "    if (total_movie_unknown>0 and total_movie_unknown<3):\n",
    "        if series[\"2009 - 2011\"]==\"U\":\n",
    "            series[\"2009 - 2011\"] = series[\"2006 - 2008\"]\n",
    "        if (series[\"2012 - 2014\"]==\"U\") and (series[\"2015 - 2017\"]!=\"U\"):\n",
    "            series[\"2012 - 2014\"] = series[\"2009 - 2011\"]\n",
    "    return series"
   ]
  },
  {
   "cell_type": "code",
   "execution_count": null,
   "metadata": {
    "collapsed": true
   },
   "outputs": [],
   "source": [
    "director_path=director_path.apply(lambda row: fill_path(row), axis=1)"
   ]
  },
  {
   "cell_type": "code",
   "execution_count": null,
   "metadata": {
    "collapsed": true
   },
   "outputs": [],
   "source": [
    "# concat the path into one column\n",
    "def concat_path(series):\n",
    "    return '\"%s\",\"%s\",\"%s\",\"%s\"'%(series[\"2006 - 2008\"],series[\"2009 - 2011\"],series[\"2012 - 2014\"],series[\"2015 - 2017\"])\n",
    "\n",
    "director_path[\"path\"]=director_path.apply(lambda x: concat_path(x),axis=1)"
   ]
  },
  {
   "cell_type": "code",
   "execution_count": null,
   "metadata": {},
   "outputs": [],
   "source": [
    "#display result \n",
    "with pd.option_context('display.max_rows', None, 'display.max_columns', None, 'display.max_colwidth', -1):\n",
    "    display(director_path)"
   ]
  }
 ],
 "metadata": {
  "kernelspec": {
   "display_name": "Python 3",
   "language": "python",
   "name": "python3"
  },
  "language_info": {
   "codemirror_mode": {
    "name": "ipython",
    "version": 3
   },
   "file_extension": ".py",
   "mimetype": "text/x-python",
   "name": "python",
   "nbconvert_exporter": "python",
   "pygments_lexer": "ipython3",
   "version": "3.6.1"
  }
 },
 "nbformat": 4,
 "nbformat_minor": 2
}
