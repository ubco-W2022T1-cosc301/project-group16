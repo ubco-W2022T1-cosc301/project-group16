{
 "cells": [
  {
   "cell_type": "markdown",
   "metadata": {},
   "source": [
    "# Top Movies Data Processing\n",
    "\n",
    "This notebook contains steps to aggregate [top_movies_data.csv](https://github.com/the-pudding/data/tree/master/film-or-digital/top_movies_data.csv) to the ones visualized in The Pudding essay [Film or Digital: Breaking Down Hollywood's Choice of Shooting Medium](https://pudding.cool/2018/08/film-or-digital/)."
   ]
  },
  {
   "cell_type": "code",
   "execution_count": null,
   "metadata": {
    "collapsed": true
   },
   "outputs": [],
   "source": [
    "#import libraries\n",
    "import pandas as pd\n",
    "import numpy as np\n",
    "import matplotlib.pyplot as plt\n",
    "import json\n",
    "from IPython.core.display import display"
   ]
  },
  {
   "cell_type": "code",
   "execution_count": null,
   "metadata": {
    "collapsed": true
   },
   "outputs": [],
   "source": [
    "#load data\n",
    "dataset = pd.read_csv(\"top_movies_data.csv\")"
   ]
  },
  {
   "cell_type": "code",
   "execution_count": null,
   "metadata": {
    "collapsed": true
   },
   "outputs": [],
   "source": [
    "#exclude genre Animation and Documentary\n",
    "dataset=dataset[~dataset['genres'].str.contains(\"Animation|Documentary\")]\n",
    "\n",
    "#exclude movies with unknown medium\n",
    "dataset=dataset[~dataset[\"film_type\"].str.contains(\"U\")]"
   ]
  },
  {
   "cell_type": "code",
   "execution_count": null,
   "metadata": {
    "collapsed": true
   },
   "outputs": [],
   "source": [
    "#expand film type to new columns\n",
    "dummies=pd.get_dummies(dataset,columns=[\"film_type\"])\n",
    "dataset=pd.concat([dataset,dummies[[\"film_type_D\",\"film_type_D|F\",\"film_type_F\"]]],axis=1)"
   ]
  },
  {
   "cell_type": "markdown",
   "metadata": {},
   "source": [
    "------\n",
    "## Prepare some functions to map values/formatting later"
   ]
  },
  {
   "cell_type": "code",
   "execution_count": null,
   "metadata": {
    "collapsed": true
   },
   "outputs": [],
   "source": [
    "#Function to calculate percentage of film/digital/both per aggregation group.\n",
    "def get_percentage(series):\n",
    "    sumtotal=series.sum()\n",
    "    return series/sumtotal*100"
   ]
  },
  {
   "cell_type": "code",
   "execution_count": null,
   "metadata": {
    "collapsed": true
   },
   "outputs": [],
   "source": [
    "#Function to round percentage breakdown using Largest Remainder Method\n",
    "#useful when making waffle chart, to make sure the percentage breakdown add up to exactly 100 percent.\n",
    "#https://stackoverflow.com/questions/13483430/how-to-make-rounded-percentages-add-up-to-100\n",
    "\n",
    "def largest_remainder(series):\n",
    "    series_pct=get_percentage(series) #calculate percentage breakdown\n",
    "    floored_series=series_pct.apply(np.floor)\n",
    "    remainder_series=series_pct-floored_series\n",
    "    sumtotal=floored_series.sum()\n",
    "    remainder=100-sumtotal\n",
    "    for index,values in remainder_series.sort_values(ascending=False).iteritems():\n",
    "        if remainder>0:\n",
    "            floored_series[index]+=1\n",
    "            remainder-=1\n",
    "    return floored_series"
   ]
  },
  {
   "cell_type": "code",
   "execution_count": null,
   "metadata": {
    "collapsed": true
   },
   "outputs": [],
   "source": [
    "#Function to map year to a three-years period.\n",
    "def calculate_period(series):\n",
    "    #Categorize production year to period.\n",
    "    #period 1: 2006-2008, period 2: 2009-2012, etc\n",
    "\n",
    "    condition=[\n",
    "                series.between(2006,2008),\n",
    "                series.between(2009,2011),\n",
    "                series.between(2012,2014),\n",
    "                series.between(2015,2017),\n",
    "              ]\n",
    "\n",
    "    category=[\n",
    "                \"2006 - 2008\", \"2009 - 2011\", \"2012 - 2014\", \"2015 - 2017\"\n",
    "             ]\n",
    "    return np.select(condition,category)"
   ]
  },
  {
   "cell_type": "markdown",
   "metadata": {},
   "source": [
    "------\n",
    "# Compute Mediums of Top Movies by Year"
   ]
  },
  {
   "cell_type": "code",
   "execution_count": null,
   "metadata": {
    "collapsed": true
   },
   "outputs": [],
   "source": [
    "#select relevant columns for this analysis\n",
    "movie_list=dataset[[\"production_year\",\"title\",\"film_type_D\",\"film_type_D|F\",\"film_type_F\"]]"
   ]
  },
  {
   "cell_type": "code",
   "execution_count": null,
   "metadata": {
    "collapsed": true
   },
   "outputs": [],
   "source": [
    "#group movies medium per year\n",
    "movie_medium_peryear=movie_list.groupby(\"production_year\").sum()\n",
    "movie_medium_peryear.columns=[\"Digital\",\"Both\",\"Film\"]\n",
    "movie_medium_peryear[\"Total\"]=movie_medium_peryear[\"Digital\"]+movie_medium_peryear[\"Both\"]+movie_medium_peryear[\"Film\"]"
   ]
  },
  {
   "cell_type": "code",
   "execution_count": null,
   "metadata": {
    "collapsed": true
   },
   "outputs": [],
   "source": [
    "#round result using Largest Remainder Method\n",
    "finalresult=movie_medium_peryear[[\"Digital\",\"Both\",\"Film\"]].apply(lambda x:largest_remainder(x), axis=1)"
   ]
  },
  {
   "cell_type": "code",
   "execution_count": null,
   "metadata": {},
   "outputs": [],
   "source": [
    "#display result \n",
    "with pd.option_context('display.max_rows', None, 'display.max_columns', None, 'display.max_colwidth', -1):\n",
    "    display(finalresult)"
   ]
  },
  {
   "cell_type": "markdown",
   "metadata": {},
   "source": [
    "------\n",
    "# Compute Medium of Top Movies by Genre and Period"
   ]
  },
  {
   "cell_type": "code",
   "execution_count": null,
   "metadata": {
    "collapsed": true
   },
   "outputs": [],
   "source": [
    "#select relevant columns for this analysis\n",
    "movie_list=dataset[[\"production_year\",\"title\",\"genres\",\"film_type_D\",\"film_type_D|F\",\"film_type_F\"]]"
   ]
  },
  {
   "cell_type": "code",
   "execution_count": null,
   "metadata": {},
   "outputs": [],
   "source": [
    "#Map production year to period.\n",
    "movie_list[\"period\"]=movie_list[[\"production_year\"]].apply(calculate_period)\n",
    "movie_list.drop([\"production_year\"],axis=1,inplace=True)"
   ]
  },
  {
   "cell_type": "code",
   "execution_count": null,
   "metadata": {
    "collapsed": true
   },
   "outputs": [],
   "source": [
    "#compute stats for all genres\n",
    "movie_medium_allgenre=movie_list.groupby([\"period\"]).sum()\n",
    "movie_medium_allgenre.columns=[\"Digital\",\"Both\",\"Film\"]\n",
    "movie_medium_allgenre=pd.concat([movie_medium_allgenre], keys=['All'], names=['Genres'])"
   ]
  },
  {
   "cell_type": "code",
   "execution_count": null,
   "metadata": {
    "collapsed": true
   },
   "outputs": [],
   "source": [
    "#split movie genres in multiple rows, to use in group by method later\n",
    "genre_split = movie_list['genres'].str.split('|').apply(pd.Series, 1).stack()\n",
    "genre_split.index=genre_split.index.droplevel(-1)\n",
    "genre_split.name = 'genres_split'\n",
    "movie_list=movie_list.join(genre_split)"
   ]
  },
  {
   "cell_type": "code",
   "execution_count": null,
   "metadata": {
    "collapsed": true
   },
   "outputs": [],
   "source": [
    "#compute stats per genre\n",
    "movie_medium_bygenre=movie_list.groupby([\"genres_split\",\"period\"]).sum()\n",
    "movie_medium_bygenre.columns=[\"Digital\",\"Both\",\"Film\"]\n",
    "\n",
    "# and combine them with stats across all genres\n",
    "movie_medium_bygenre=pd.concat([movie_medium_allgenre,movie_medium_bygenre])"
   ]
  },
  {
   "cell_type": "code",
   "execution_count": null,
   "metadata": {
    "collapsed": true
   },
   "outputs": [],
   "source": [
    "#round result using Largest Remainder Method\n",
    "finalresult=movie_medium_bygenre.apply(lambda x:largest_remainder(x), axis=1)"
   ]
  },
  {
   "cell_type": "code",
   "execution_count": null,
   "metadata": {},
   "outputs": [],
   "source": [
    "#display result \n",
    "with pd.option_context('display.max_rows', None, 'display.max_columns', None, 'display.max_colwidth', -1):\n",
    "    display(finalresult)"
   ]
  },
  {
   "cell_type": "markdown",
   "metadata": {},
   "source": [
    "------\n",
    "# Medium of Top Movies, by Budget Range and Period"
   ]
  },
  {
   "cell_type": "code",
   "execution_count": null,
   "metadata": {
    "collapsed": true
   },
   "outputs": [],
   "source": [
    "#select relevant columns for this analysis\n",
    "movie_list=dataset[[\"production_year\",\"title\",\"budget\",\"film_type_D\",\"film_type_D|F\",\"film_type_F\"]]"
   ]
  },
  {
   "cell_type": "code",
   "execution_count": null,
   "metadata": {},
   "outputs": [],
   "source": [
    "#Categorize production year to period\n",
    "movie_list[\"period\"]=movie_list[[\"production_year\"]].apply(calculate_period)\n",
    "\n",
    "#and drop production year column\n",
    "movie_list.drop([\"production_year\"],axis=1,inplace=True)"
   ]
  },
  {
   "cell_type": "code",
   "execution_count": null,
   "metadata": {
    "collapsed": true
   },
   "outputs": [],
   "source": [
    "#drop movies with unknown budget\n",
    "movie_list=movie_list[movie_list[\"budget\"]>0]\n",
    "\n",
    "#Map budget to budget range\n",
    "condition=[\n",
    "            movie_list['budget']<20000000, \n",
    "            movie_list['budget'].between(20000000, 39999999),\n",
    "            movie_list['budget'].between(40000000, 79999999),\n",
    "            movie_list['budget'].between(80000000, 159999999),\n",
    "            movie_list['budget']>=160000000\n",
    "          ]\n",
    "\n",
    "category=[\n",
    "            \"a. <20M\",\"b. 20M-40M\",\"c. 40M-80M\",\"d. 80M-160M\",\"e. >=160M\"\n",
    "         ]\n",
    "\n",
    "movie_list[\"budget_range\"]=np.select(condition,category)\n",
    "\n",
    "#and drop budget column\n",
    "movie_list.drop([\"budget\"],axis=1,inplace=True)"
   ]
  },
  {
   "cell_type": "code",
   "execution_count": null,
   "metadata": {
    "collapsed": true
   },
   "outputs": [],
   "source": [
    "#group movie medium per period and budget range\n",
    "movie_medium_bybudget=movie_list.groupby([\"period\",\"budget_range\"]).sum()\n",
    "movie_medium_bybudget.columns=[\"Digital\",\"Both\",\"Film\"]"
   ]
  },
  {
   "cell_type": "code",
   "execution_count": null,
   "metadata": {
    "collapsed": true
   },
   "outputs": [],
   "source": [
    "#round result using Largest Remainder Method\n",
    "tempresult=movie_medium_bybudget.apply(lambda x:largest_remainder(x), axis=1)"
   ]
  },
  {
   "cell_type": "code",
   "execution_count": null,
   "metadata": {
    "collapsed": true
   },
   "outputs": [],
   "source": [
    "#transform the table to the ones shown in the essay\n",
    "finalresult=pd.DataFrame()\n",
    "for medium in [\"Digital\",\"Film\",\"Both\"]:\n",
    "    for period in movie_list[\"period\"].unique():\n",
    "        finalresult=finalresult.append(tempresult[[medium]].transpose()[period].set_index([[period]],append=True))\n",
    "finalresult.index.set_names([\"medium\",\"period\"],inplace=True)"
   ]
  },
  {
   "cell_type": "code",
   "execution_count": null,
   "metadata": {},
   "outputs": [],
   "source": [
    "#display result \n",
    "with pd.option_context('display.max_rows', None, 'display.max_columns', None, 'display.max_colwidth', -1):\n",
    "    display(finalresult)"
   ]
  },
  {
   "cell_type": "markdown",
   "metadata": {
    "collapsed": true
   },
   "source": [
    "------\n",
    "# Medium of Top Movies, by Budget and Period"
   ]
  },
  {
   "cell_type": "code",
   "execution_count": null,
   "metadata": {
    "collapsed": true
   },
   "outputs": [],
   "source": [
    "#select relevant columns for this analysis\n",
    "movie_list=dataset[[\"id\",\"production_year\",\"title\",\"budget\",\"film_type\"]]"
   ]
  },
  {
   "cell_type": "code",
   "execution_count": null,
   "metadata": {},
   "outputs": [],
   "source": [
    "#Categorize production year to period\n",
    "movie_list[\"period\"]=movie_list[[\"production_year\"]].apply(calculate_period)"
   ]
  },
  {
   "cell_type": "code",
   "execution_count": null,
   "metadata": {
    "collapsed": true
   },
   "outputs": [],
   "source": [
    "#drop movies with unknown budget\n",
    "movie_list=movie_list[movie_list[\"budget\"]>0]"
   ]
  },
  {
   "cell_type": "code",
   "execution_count": null,
   "metadata": {
    "collapsed": true
   },
   "outputs": [],
   "source": [
    "#rearrange data\n",
    "movie_list.sort_values(by=[\"period\",\"production_year\",\"budget\"],inplace=True)\n",
    "movie_list.set_index(\"period\",inplace=True)"
   ]
  },
  {
   "cell_type": "code",
   "execution_count": null,
   "metadata": {},
   "outputs": [],
   "source": [
    "with pd.option_context('display.max_rows', None, 'display.max_columns', None):\n",
    "    display(movie_list)"
   ]
  },
  {
   "cell_type": "code",
   "execution_count": null,
   "metadata": {
    "collapsed": true
   },
   "outputs": [],
   "source": []
  }
 ],
 "metadata": {
  "kernelspec": {
   "display_name": "Python 3",
   "language": "python",
   "name": "python3"
  },
  "language_info": {
   "codemirror_mode": {
    "name": "ipython",
    "version": 3
   },
   "file_extension": ".py",
   "mimetype": "text/x-python",
   "name": "python",
   "nbconvert_exporter": "python",
   "pygments_lexer": "ipython3",
   "version": "3.6.1"
  }
 },
 "nbformat": 4,
 "nbformat_minor": 2
}
